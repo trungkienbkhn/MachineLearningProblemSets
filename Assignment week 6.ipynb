{
 "cells": [
  {
   "cell_type": "markdown",
   "metadata": {
    "colab_type": "text",
    "id": "Ps5x-gYUCf9_"
   },
   "source": [
    "# Handwritten Digits Classification"
   ]
  },
  {
   "cell_type": "markdown",
   "metadata": {
    "colab_type": "text",
    "id": "0glR10XBCxNy"
   },
   "source": [
    "## Overview\n",
    "\n",
    "The MNIST database (Modified National Institute of Standards and Technology database) is a large database of handwritten digits that is commonly used for training various image processing systems. MNIST is like the \"Hello World\" of machine learning with which you can try out a few machine learning algorithms.\n",
    "\n",
    "![](https://upload.wikimedia.org/wikipedia/commons/2/27/MnistExamples.png)\n",
    "\n",
    "Each image is 28 pixels in height and 28 pixels in width, for a total of 784 pixels in total. Each pixel has a single pixel-value associated with it, indicating the lightness or darkness of that pixel, with higher numbers meaning lighter. This pixel-value is an integer between 0 and 255, inclusive.\n",
    "\n",
    "Visually, if we omit the \"pixel\" prefix, the pixels make up the image like this:\n",
    "```\n",
    "000 001 002 003 ... 026 027\n",
    "028 029 030 031 ... 054 055\n",
    "056 057 058 059 ... 082 083\n",
    " |   |   |   |  ...  |   |\n",
    "728 729 730 731 ... 754 755\n",
    "756 757 758 759 ... 782 783 \n",
    "```"
   ]
  },
  {
   "cell_type": "markdown",
   "metadata": {
    "colab_type": "text",
    "id": "-3hGXfqVDRna"
   },
   "source": [
    "## Get Data"
   ]
  },
  {
   "cell_type": "code",
   "execution_count": 1,
   "metadata": {
    "colab": {},
    "colab_type": "code",
    "id": "4IWx_-bBEYAT"
   },
   "outputs": [],
   "source": [
    "import numpy as np\n",
    "import pandas as pd\n",
    "import seaborn as sns\n",
    "import matplotlib.pyplot as plt\n",
    "%matplotlib inline\n",
    "\n",
    "import warnings\n",
    "warnings.filterwarnings('ignore')\n",
    "\n",
    "sns.set_style(\"whitegrid\")"
   ]
  },
  {
   "cell_type": "code",
   "execution_count": 2,
   "metadata": {
    "colab": {
     "base_uri": "https://localhost:8080/",
     "height": 85
    },
    "colab_type": "code",
    "executionInfo": {
     "elapsed": 3285,
     "status": "ok",
     "timestamp": 1589176733358,
     "user": {
      "displayName": "Minh Do",
      "photoUrl": "https://lh3.googleusercontent.com/a-/AOh14GhnQ6aJ2YnaevyJzhii-qGws6Y17w-cwWLqF5iP=s64",
      "userId": "12822549848477954436"
     },
     "user_tz": -420
    },
    "id": "BNhUbXb9CSbh",
    "outputId": "36ab477d-bf38-4884-ff84-b5ee36b69e7f"
   },
   "outputs": [
    {
     "name": "stdout",
     "output_type": "stream",
     "text": [
      "Training data: (60000, 28, 28) (60000,)\n",
      "Test data: (10000, 28, 28) (10000,)\n"
     ]
    }
   ],
   "source": [
    "from tensorflow.keras.datasets import mnist\n",
    "\n",
    "(X_train, y_train), (X_test, y_test) = mnist.load_data()\n",
    "\n",
    "print('Training data:', X_train.shape, y_train.shape)\n",
    "print('Test data:', X_test.shape, y_test.shape)"
   ]
  },
  {
   "cell_type": "markdown",
   "metadata": {
    "colab_type": "text",
    "id": "VYTtM9VlGs31"
   },
   "source": [
    "## EDA"
   ]
  },
  {
   "cell_type": "code",
   "execution_count": 3,
   "metadata": {
    "colab": {},
    "colab_type": "code",
    "id": "xcZURSKuDcvm"
   },
   "outputs": [],
   "source": [
    "def plot_images(images, labels):\n",
    "    '''Plot images with their labels. Ten each row'''\n",
    "    plt.figure(figsize=(20, 10))\n",
    "    columns = 10\n",
    "    for i, image in enumerate(images):\n",
    "        ax = plt.subplot(len(images) / columns + 1, columns, i + 1)\n",
    "        ax.set_title(f\"{labels[i]}\", fontsize=16)\n",
    "        plt.axis('off')\n",
    "        plt.subplots_adjust(bottom=0.1)\n",
    "        plt.imshow(image, cmap='gray')\n",
    "\n",
    "def get_samples(n_samples, X, y):\n",
    "    '''Get n_samples images randomly'''\n",
    "    samples = np.random.choice(np.arange(len(y)), n_samples, replace=False)\n",
    "    return X[samples], y[samples]\n",
    "\n",
    "def get_digit(digit, n_samples, X, y):\n",
    "    '''Get n_samples images of the class digit randomly'''\n",
    "    y_digit = y[y == digit]\n",
    "    samples = np.random.choice(np.arange(len(y_digit)), n_samples, replace=False)\n",
    "    return X[y == digit][samples], y_digit[samples]"
   ]
  },
  {
   "cell_type": "code",
   "execution_count": 4,
   "metadata": {
    "colab": {
     "base_uri": "https://localhost:8080/",
     "height": 403
    },
    "colab_type": "code",
    "executionInfo": {
     "elapsed": 6536,
     "status": "ok",
     "timestamp": 1589176736704,
     "user": {
      "displayName": "Minh Do",
      "photoUrl": "https://lh3.googleusercontent.com/a-/AOh14GhnQ6aJ2YnaevyJzhii-qGws6Y17w-cwWLqF5iP=s64",
      "userId": "12822549848477954436"
     },
     "user_tz": -420
    },
    "id": "OpMe7EMCEF01",
    "outputId": "4f78db79-ec22-40dd-be53-915e9a184f53"
   },
   "outputs": [
    {
     "data": {
      "image/png": "[encoded data removed]",
      "text/plain": [
       "<Figure size 1440x720 with 30 Axes>"
      ]
     },
     "metadata": {},
     "output_type": "display_data"
    }
   ],
   "source": [
    "n_samples = 30\n",
    "#images, labels = get_samples(n_samples, X_train, y_train)\n",
    "images, labels = get_digit(4, n_samples, X_train, y_train)\n",
    "plot_images(images, labels)"
   ]
  },
  {
   "cell_type": "markdown",
   "metadata": {
    "colab_type": "text",
    "id": "Mh5Jukj4AIa8"
   },
   "source": [
    "**Plot the barplot of number of images of each class (0 to 9)**"
   ]
  },
  {
   "cell_type": "code",
   "execution_count": 5,
   "metadata": {
    "colab": {
     "base_uri": "https://localhost:8080/",
     "height": 284
    },
    "colab_type": "code",
    "executionInfo": {
     "elapsed": 6498,
     "status": "ok",
     "timestamp": 1589176736706,
     "user": {
      "displayName": "Minh Do",
      "photoUrl": "https://lh3.googleusercontent.com/a-/AOh14GhnQ6aJ2YnaevyJzhii-qGws6Y17w-cwWLqF5iP=s64",
      "userId": "12822549848477954436"
     },
     "user_tz": -420
    },
    "id": "xjVYEat8EJTd",
    "outputId": "71329a1c-4080-4acf-fd2a-64fa7508a15c"
   },
   "outputs": [
    {
     "data": {
      "text/plain": [
       "<matplotlib.axes._subplots.AxesSubplot at 0x7fc32802de10>"
      ]
     },
     "execution_count": 5,
     "metadata": {},
     "output_type": "execute_result"
    },
    {
     "data": {
      "image/png": "[encoded data removed]",
      "text/plain": [
       "<Figure size 432x288 with 1 Axes>"
      ]
     },
     "metadata": {},
     "output_type": "display_data"
    }
   ],
   "source": [
    "# Your code here\n",
    "sns.countplot(y_train)"
   ]
  },
  {
   "cell_type": "markdown",
   "metadata": {
    "colab_type": "text",
    "id": "yRxFLQZjAIbA"
   },
   "source": [
    "**Print out the range of pixel values (min, max)**"
   ]
  },
  {
   "cell_type": "code",
   "execution_count": 6,
   "metadata": {
    "colab": {
     "base_uri": "https://localhost:8080/",
     "height": 34
    },
    "colab_type": "code",
    "executionInfo": {
     "elapsed": 6454,
     "status": "ok",
     "timestamp": 1589176736707,
     "user": {
      "displayName": "Minh Do",
      "photoUrl": "https://lh3.googleusercontent.com/a-/AOh14GhnQ6aJ2YnaevyJzhii-qGws6Y17w-cwWLqF5iP=s64",
      "userId": "12822549848477954436"
     },
     "user_tz": -420
    },
    "id": "d0rZBlU8FmtE",
    "outputId": "19f74e3d-8c3c-432b-bb2a-5efa0a06a045"
   },
   "outputs": [
    {
     "name": "stdout",
     "output_type": "stream",
     "text": [
      "Pixel value range: 0 255\n"
     ]
    }
   ],
   "source": [
    "# Your code here\n",
    "print('Pixel value range:', X_train.min(), X_train.max())"
   ]
  },
  {
   "cell_type": "markdown",
   "metadata": {
    "colab_type": "text",
    "id": "XC2sFqfcJjQ1"
   },
   "source": [
    "## Transform data for training"
   ]
  },
  {
   "cell_type": "markdown",
   "metadata": {
    "colab_type": "text",
    "id": "HtTutiwqAIbE"
   },
   "source": [
    "**Get the first `n_samples` images randomly from training set and test set. Then reshape them into long vectors**"
   ]
  },
  {
   "cell_type": "code",
   "execution_count": 7,
   "metadata": {},
   "outputs": [],
   "source": [
    "#Get all the data\n",
    "#X_train_flat = X_train.reshape((-1, 784))\n",
    "#X_test_flat = X_test.reshape((-1, 784))\n",
    "#y_train_flat = y_train\n",
    "#y_test_flat = y_test\n",
    "\n",
    "#print('Training data', X_train_flat.shape)\n",
    "#print('Test data', X_test_flat.shape)\n",
    "#print('Training label', y_train_flat.shape)\n",
    "#print('Test label', y_test_flat.shape)"
   ]
  },
  {
   "cell_type": "code",
   "execution_count": 8,
   "metadata": {
    "colab": {},
    "colab_type": "code",
    "id": "XF1XGXrvJlri"
   },
   "outputs": [
    {
     "name": "stdout",
     "output_type": "stream",
     "text": [
      "Training data (1000, 784)\n",
      "Test data (200, 784)\n",
      "Training label (1000,)\n",
      "Test label (200,)\n"
     ]
    }
   ],
   "source": [
    "n_samples = 1000\n",
    "n_test_samples = 200\n",
    "X_train_flat, y_train_flat = get_samples(n_samples, X_train, y_train)\n",
    "X_test_flat, y_test_flat = get_samples(n_test_samples, X_test, y_test)\n",
    "\n",
    "X_train_flat = X_train_flat.reshape((n_samples, -1))/255\n",
    "X_test_flat = X_test_flat.reshape((n_test_samples, -1))/255\n",
    "print('Training data', X_train_flat.shape)\n",
    "print('Test data', X_test_flat.shape)\n",
    "print('Training label', y_train_flat.shape)\n",
    "print('Test label', y_test_flat.shape)"
   ]
  },
  {
   "cell_type": "code",
   "execution_count": null,
   "metadata": {
    "colab": {
     "base_uri": "https://localhost:8080/",
     "height": 51
    },
    "colab_type": "code",
    "executionInfo": {
     "elapsed": 1267,
     "status": "ok",
     "timestamp": 1589176739748,
     "user": {
      "displayName": "Minh Do",
      "photoUrl": "https://lh3.googleusercontent.com/a-/AOh14GhnQ6aJ2YnaevyJzhii-qGws6Y17w-cwWLqF5iP=s64",
      "userId": "12822549848477954436"
     },
     "user_tz": -420
    },
    "id": "66rNQGgnK1MX",
    "outputId": "2fa94b44-a17e-4a45-d6bc-b6d8779a85f7"
   },
   "outputs": [],
   "source": []
  },
  {
   "cell_type": "markdown",
   "metadata": {
    "colab_type": "text",
    "id": "bmxGMEGGLaJI"
   },
   "source": [
    "## Train models"
   ]
  },
  {
   "cell_type": "code",
   "execution_count": 9,
   "metadata": {
    "colab": {},
    "colab_type": "code",
    "id": "4tJcSPEbLRsh"
   },
   "outputs": [],
   "source": [
    "from sklearn.svm import SVC\n",
    "from sklearn.metrics import confusion_matrix, accuracy_score\n",
    "from sklearn.model_selection import cross_val_score\n",
    "from sklearn.model_selection import GridSearchCV"
   ]
  },
  {
   "cell_type": "markdown",
   "metadata": {
    "colab_type": "text",
    "id": "8vHewJOQAIbL"
   },
   "source": [
    "**Train a SVM model**: Set up the training process and train with the small samples of data first before you take the full training dataset to train."
   ]
  },
  {
   "cell_type": "code",
   "execution_count": 10,
   "metadata": {
    "colab": {},
    "colab_type": "code",
    "id": "Mo2qhFY_AIbL"
   },
   "outputs": [
    {
     "data": {
      "text/plain": [
       "SVC(kernel='linear')"
      ]
     },
     "execution_count": 10,
     "metadata": {},
     "output_type": "execute_result"
    }
   ],
   "source": [
    "clf = SVC(kernel='linear')\n",
    "clf.fit(X_train_flat, y_train_flat)"
   ]
  },
  {
   "cell_type": "code",
   "execution_count": 11,
   "metadata": {},
   "outputs": [
    {
     "data": {
      "text/plain": [
       "GridSearchCV(cv=5, estimator=SVC(), n_jobs=-1,\n",
       "             param_grid={'C': [0.01, 0.1, 1, 10, 100],\n",
       "                         'gamma': [0.0001, 0.001, 0.01]},\n",
       "             scoring='accuracy')"
      ]
     },
     "execution_count": 11,
     "metadata": {},
     "output_type": "execute_result"
    }
   ],
   "source": [
    "parameters = {'gamma': [0.0001, 0.001, 0.01],\n",
    "              'C':[0.01, 0.1, 1, 10, 100]}\n",
    "\n",
    "model = SVC(kernel='rbf')\n",
    "\n",
    "gridsearch_models = GridSearchCV(estimator=model,\n",
    "                                 param_grid=parameters,\n",
    "                                 scoring='accuracy',\n",
    "                                 cv=5, n_jobs=-1)\n",
    "\n",
    "gridsearch_models.fit(X_train_flat, y_train_flat)"
   ]
  },
  {
   "cell_type": "code",
   "execution_count": 13,
   "metadata": {},
   "outputs": [
    {
     "data": {
      "text/html": [
       "<div>\n",
       "<style scoped>\n",
       "    .dataframe tbody tr th:only-of-type {\n",
       "        vertical-align: middle;\n",
       "    }\n",
       "\n",
       "    .dataframe tbody tr th {\n",
       "        vertical-align: top;\n",
       "    }\n",
       "\n",
       "    .dataframe thead th {\n",
       "        text-align: right;\n",
       "    }\n",
       "</style>\n",
       "<table border=\"1\" class=\"dataframe\">\n",
       "  <thead>\n",
       "    <tr style=\"text-align: right;\">\n",
       "      <th></th>\n",
       "      <th>mean_fit_time</th>\n",
       "      <th>std_fit_time</th>\n",
       "      <th>mean_score_time</th>\n",
       "      <th>std_score_time</th>\n",
       "      <th>param_C</th>\n",
       "      <th>param_gamma</th>\n",
       "      <th>params</th>\n",
       "      <th>split0_test_score</th>\n",
       "      <th>split1_test_score</th>\n",
       "      <th>split2_test_score</th>\n",
       "      <th>split3_test_score</th>\n",
       "      <th>split4_test_score</th>\n",
       "      <th>mean_test_score</th>\n",
       "      <th>std_test_score</th>\n",
       "      <th>rank_test_score</th>\n",
       "    </tr>\n",
       "  </thead>\n",
       "  <tbody>\n",
       "    <tr>\n",
       "      <th>0</th>\n",
       "      <td>1.867646</td>\n",
       "      <td>0.113913</td>\n",
       "      <td>0.279057</td>\n",
       "      <td>0.035368</td>\n",
       "      <td>0.01</td>\n",
       "      <td>0.0001</td>\n",
       "      <td>{'C': 0.01, 'gamma': 0.0001}</td>\n",
       "      <td>0.115</td>\n",
       "      <td>0.115</td>\n",
       "      <td>0.115</td>\n",
       "      <td>0.120</td>\n",
       "      <td>0.115</td>\n",
       "      <td>0.116</td>\n",
       "      <td>0.002000</td>\n",
       "      <td>12</td>\n",
       "    </tr>\n",
       "    <tr>\n",
       "      <th>1</th>\n",
       "      <td>1.757135</td>\n",
       "      <td>0.049313</td>\n",
       "      <td>0.252128</td>\n",
       "      <td>0.020370</td>\n",
       "      <td>0.01</td>\n",
       "      <td>0.001</td>\n",
       "      <td>{'C': 0.01, 'gamma': 0.001}</td>\n",
       "      <td>0.115</td>\n",
       "      <td>0.115</td>\n",
       "      <td>0.115</td>\n",
       "      <td>0.120</td>\n",
       "      <td>0.115</td>\n",
       "      <td>0.116</td>\n",
       "      <td>0.002000</td>\n",
       "      <td>12</td>\n",
       "    </tr>\n",
       "    <tr>\n",
       "      <th>2</th>\n",
       "      <td>1.822209</td>\n",
       "      <td>0.112010</td>\n",
       "      <td>0.240736</td>\n",
       "      <td>0.006687</td>\n",
       "      <td>0.01</td>\n",
       "      <td>0.01</td>\n",
       "      <td>{'C': 0.01, 'gamma': 0.01}</td>\n",
       "      <td>0.115</td>\n",
       "      <td>0.115</td>\n",
       "      <td>0.115</td>\n",
       "      <td>0.120</td>\n",
       "      <td>0.115</td>\n",
       "      <td>0.116</td>\n",
       "      <td>0.002000</td>\n",
       "      <td>12</td>\n",
       "    </tr>\n",
       "    <tr>\n",
       "      <th>3</th>\n",
       "      <td>1.773973</td>\n",
       "      <td>0.066019</td>\n",
       "      <td>0.251964</td>\n",
       "      <td>0.018698</td>\n",
       "      <td>0.1</td>\n",
       "      <td>0.0001</td>\n",
       "      <td>{'C': 0.1, 'gamma': 0.0001}</td>\n",
       "      <td>0.115</td>\n",
       "      <td>0.115</td>\n",
       "      <td>0.115</td>\n",
       "      <td>0.120</td>\n",
       "      <td>0.115</td>\n",
       "      <td>0.116</td>\n",
       "      <td>0.002000</td>\n",
       "      <td>12</td>\n",
       "    </tr>\n",
       "    <tr>\n",
       "      <th>4</th>\n",
       "      <td>1.684092</td>\n",
       "      <td>0.028760</td>\n",
       "      <td>0.237687</td>\n",
       "      <td>0.003592</td>\n",
       "      <td>0.1</td>\n",
       "      <td>0.001</td>\n",
       "      <td>{'C': 0.1, 'gamma': 0.001}</td>\n",
       "      <td>0.115</td>\n",
       "      <td>0.115</td>\n",
       "      <td>0.115</td>\n",
       "      <td>0.125</td>\n",
       "      <td>0.115</td>\n",
       "      <td>0.117</td>\n",
       "      <td>0.004000</td>\n",
       "      <td>11</td>\n",
       "    </tr>\n",
       "    <tr>\n",
       "      <th>5</th>\n",
       "      <td>1.539709</td>\n",
       "      <td>0.025963</td>\n",
       "      <td>0.234011</td>\n",
       "      <td>0.006791</td>\n",
       "      <td>0.1</td>\n",
       "      <td>0.01</td>\n",
       "      <td>{'C': 0.1, 'gamma': 0.01}</td>\n",
       "      <td>0.675</td>\n",
       "      <td>0.675</td>\n",
       "      <td>0.695</td>\n",
       "      <td>0.690</td>\n",
       "      <td>0.690</td>\n",
       "      <td>0.685</td>\n",
       "      <td>0.008367</td>\n",
       "      <td>9</td>\n",
       "    </tr>\n",
       "    <tr>\n",
       "      <th>6</th>\n",
       "      <td>1.681950</td>\n",
       "      <td>0.034761</td>\n",
       "      <td>0.240197</td>\n",
       "      <td>0.003700</td>\n",
       "      <td>1</td>\n",
       "      <td>0.0001</td>\n",
       "      <td>{'C': 1, 'gamma': 0.0001}</td>\n",
       "      <td>0.125</td>\n",
       "      <td>0.120</td>\n",
       "      <td>0.125</td>\n",
       "      <td>0.125</td>\n",
       "      <td>0.125</td>\n",
       "      <td>0.124</td>\n",
       "      <td>0.002000</td>\n",
       "      <td>10</td>\n",
       "    </tr>\n",
       "    <tr>\n",
       "      <th>7</th>\n",
       "      <td>1.218041</td>\n",
       "      <td>0.023023</td>\n",
       "      <td>0.222835</td>\n",
       "      <td>0.005140</td>\n",
       "      <td>1</td>\n",
       "      <td>0.001</td>\n",
       "      <td>{'C': 1, 'gamma': 0.001}</td>\n",
       "      <td>0.830</td>\n",
       "      <td>0.815</td>\n",
       "      <td>0.800</td>\n",
       "      <td>0.840</td>\n",
       "      <td>0.810</td>\n",
       "      <td>0.819</td>\n",
       "      <td>0.014283</td>\n",
       "      <td>8</td>\n",
       "    </tr>\n",
       "    <tr>\n",
       "      <th>8</th>\n",
       "      <td>0.852383</td>\n",
       "      <td>0.086032</td>\n",
       "      <td>0.186340</td>\n",
       "      <td>0.004441</td>\n",
       "      <td>1</td>\n",
       "      <td>0.01</td>\n",
       "      <td>{'C': 1, 'gamma': 0.01}</td>\n",
       "      <td>0.900</td>\n",
       "      <td>0.895</td>\n",
       "      <td>0.875</td>\n",
       "      <td>0.890</td>\n",
       "      <td>0.895</td>\n",
       "      <td>0.891</td>\n",
       "      <td>0.008602</td>\n",
       "      <td>3</td>\n",
       "    </tr>\n",
       "    <tr>\n",
       "      <th>9</th>\n",
       "      <td>1.221759</td>\n",
       "      <td>0.055001</td>\n",
       "      <td>0.219508</td>\n",
       "      <td>0.006630</td>\n",
       "      <td>10</td>\n",
       "      <td>0.0001</td>\n",
       "      <td>{'C': 10, 'gamma': 0.0001}</td>\n",
       "      <td>0.830</td>\n",
       "      <td>0.815</td>\n",
       "      <td>0.800</td>\n",
       "      <td>0.845</td>\n",
       "      <td>0.810</td>\n",
       "      <td>0.820</td>\n",
       "      <td>0.015811</td>\n",
       "      <td>7</td>\n",
       "    </tr>\n",
       "    <tr>\n",
       "      <th>10</th>\n",
       "      <td>0.594368</td>\n",
       "      <td>0.020582</td>\n",
       "      <td>0.165869</td>\n",
       "      <td>0.005367</td>\n",
       "      <td>10</td>\n",
       "      <td>0.001</td>\n",
       "      <td>{'C': 10, 'gamma': 0.001}</td>\n",
       "      <td>0.890</td>\n",
       "      <td>0.885</td>\n",
       "      <td>0.875</td>\n",
       "      <td>0.875</td>\n",
       "      <td>0.875</td>\n",
       "      <td>0.880</td>\n",
       "      <td>0.006325</td>\n",
       "      <td>5</td>\n",
       "    </tr>\n",
       "    <tr>\n",
       "      <th>11</th>\n",
       "      <td>0.803526</td>\n",
       "      <td>0.034953</td>\n",
       "      <td>0.174925</td>\n",
       "      <td>0.006325</td>\n",
       "      <td>10</td>\n",
       "      <td>0.01</td>\n",
       "      <td>{'C': 10, 'gamma': 0.01}</td>\n",
       "      <td>0.915</td>\n",
       "      <td>0.905</td>\n",
       "      <td>0.890</td>\n",
       "      <td>0.895</td>\n",
       "      <td>0.915</td>\n",
       "      <td>0.904</td>\n",
       "      <td>0.010198</td>\n",
       "      <td>1</td>\n",
       "    </tr>\n",
       "    <tr>\n",
       "      <th>12</th>\n",
       "      <td>0.577491</td>\n",
       "      <td>0.014524</td>\n",
       "      <td>0.161512</td>\n",
       "      <td>0.003367</td>\n",
       "      <td>100</td>\n",
       "      <td>0.0001</td>\n",
       "      <td>{'C': 100, 'gamma': 0.0001}</td>\n",
       "      <td>0.880</td>\n",
       "      <td>0.880</td>\n",
       "      <td>0.865</td>\n",
       "      <td>0.870</td>\n",
       "      <td>0.875</td>\n",
       "      <td>0.874</td>\n",
       "      <td>0.005831</td>\n",
       "      <td>6</td>\n",
       "    </tr>\n",
       "    <tr>\n",
       "      <th>13</th>\n",
       "      <td>0.518937</td>\n",
       "      <td>0.015730</td>\n",
       "      <td>0.148518</td>\n",
       "      <td>0.003908</td>\n",
       "      <td>100</td>\n",
       "      <td>0.001</td>\n",
       "      <td>{'C': 100, 'gamma': 0.001}</td>\n",
       "      <td>0.895</td>\n",
       "      <td>0.880</td>\n",
       "      <td>0.860</td>\n",
       "      <td>0.875</td>\n",
       "      <td>0.905</td>\n",
       "      <td>0.883</td>\n",
       "      <td>0.015684</td>\n",
       "      <td>4</td>\n",
       "    </tr>\n",
       "    <tr>\n",
       "      <th>14</th>\n",
       "      <td>0.774197</td>\n",
       "      <td>0.056600</td>\n",
       "      <td>0.172950</td>\n",
       "      <td>0.011633</td>\n",
       "      <td>100</td>\n",
       "      <td>0.01</td>\n",
       "      <td>{'C': 100, 'gamma': 0.01}</td>\n",
       "      <td>0.915</td>\n",
       "      <td>0.905</td>\n",
       "      <td>0.890</td>\n",
       "      <td>0.895</td>\n",
       "      <td>0.915</td>\n",
       "      <td>0.904</td>\n",
       "      <td>0.010198</td>\n",
       "      <td>1</td>\n",
       "    </tr>\n",
       "  </tbody>\n",
       "</table>\n",
       "</div>"
      ],
      "text/plain": [
       "    mean_fit_time  std_fit_time  mean_score_time  std_score_time param_C  \\\n",
       "0        1.867646      0.113913         0.279057        0.035368    0.01   \n",
       "1        1.757135      0.049313         0.252128        0.020370    0.01   \n",
       "2        1.822209      0.112010         0.240736        0.006687    0.01   \n",
       "3        1.773973      0.066019         0.251964        0.018698     0.1   \n",
       "4        1.684092      0.028760         0.237687        0.003592     0.1   \n",
       "5        1.539709      0.025963         0.234011        0.006791     0.1   \n",
       "6        1.681950      0.034761         0.240197        0.003700       1   \n",
       "7        1.218041      0.023023         0.222835        0.005140       1   \n",
       "8        0.852383      0.086032         0.186340        0.004441       1   \n",
       "9        1.221759      0.055001         0.219508        0.006630      10   \n",
       "10       0.594368      0.020582         0.165869        0.005367      10   \n",
       "11       0.803526      0.034953         0.174925        0.006325      10   \n",
       "12       0.577491      0.014524         0.161512        0.003367     100   \n",
       "13       0.518937      0.015730         0.148518        0.003908     100   \n",
       "14       0.774197      0.056600         0.172950        0.011633     100   \n",
       "\n",
       "   param_gamma                        params  split0_test_score  \\\n",
       "0       0.0001  {'C': 0.01, 'gamma': 0.0001}              0.115   \n",
       "1        0.001   {'C': 0.01, 'gamma': 0.001}              0.115   \n",
       "2         0.01    {'C': 0.01, 'gamma': 0.01}              0.115   \n",
       "3       0.0001   {'C': 0.1, 'gamma': 0.0001}              0.115   \n",
       "4        0.001    {'C': 0.1, 'gamma': 0.001}              0.115   \n",
       "5         0.01     {'C': 0.1, 'gamma': 0.01}              0.675   \n",
       "6       0.0001     {'C': 1, 'gamma': 0.0001}              0.125   \n",
       "7        0.001      {'C': 1, 'gamma': 0.001}              0.830   \n",
       "8         0.01       {'C': 1, 'gamma': 0.01}              0.900   \n",
       "9       0.0001    {'C': 10, 'gamma': 0.0001}              0.830   \n",
       "10       0.001     {'C': 10, 'gamma': 0.001}              0.890   \n",
       "11        0.01      {'C': 10, 'gamma': 0.01}              0.915   \n",
       "12      0.0001   {'C': 100, 'gamma': 0.0001}              0.880   \n",
       "13       0.001    {'C': 100, 'gamma': 0.001}              0.895   \n",
       "14        0.01     {'C': 100, 'gamma': 0.01}              0.915   \n",
       "\n",
       "    split1_test_score  split2_test_score  split3_test_score  \\\n",
       "0               0.115              0.115              0.120   \n",
       "1               0.115              0.115              0.120   \n",
       "2               0.115              0.115              0.120   \n",
       "3               0.115              0.115              0.120   \n",
       "4               0.115              0.115              0.125   \n",
       "5               0.675              0.695              0.690   \n",
       "6               0.120              0.125              0.125   \n",
       "7               0.815              0.800              0.840   \n",
       "8               0.895              0.875              0.890   \n",
       "9               0.815              0.800              0.845   \n",
       "10              0.885              0.875              0.875   \n",
       "11              0.905              0.890              0.895   \n",
       "12              0.880              0.865              0.870   \n",
       "13              0.880              0.860              0.875   \n",
       "14              0.905              0.890              0.895   \n",
       "\n",
       "    split4_test_score  mean_test_score  std_test_score  rank_test_score  \n",
       "0               0.115            0.116        0.002000               12  \n",
       "1               0.115            0.116        0.002000               12  \n",
       "2               0.115            0.116        0.002000               12  \n",
       "3               0.115            0.116        0.002000               12  \n",
       "4               0.115            0.117        0.004000               11  \n",
       "5               0.690            0.685        0.008367                9  \n",
       "6               0.125            0.124        0.002000               10  \n",
       "7               0.810            0.819        0.014283                8  \n",
       "8               0.895            0.891        0.008602                3  \n",
       "9               0.810            0.820        0.015811                7  \n",
       "10              0.875            0.880        0.006325                5  \n",
       "11              0.915            0.904        0.010198                1  \n",
       "12              0.875            0.874        0.005831                6  \n",
       "13              0.905            0.883        0.015684                4  \n",
       "14              0.915            0.904        0.010198                1  "
      ]
     },
     "execution_count": 13,
     "metadata": {},
     "output_type": "execute_result"
    }
   ],
   "source": [
    "pd.DataFrame(gridsearch_models.cv_results_)"
   ]
  },
  {
   "cell_type": "code",
   "execution_count": 14,
   "metadata": {},
   "outputs": [
    {
     "name": "stdout",
     "output_type": "stream",
     "text": [
      "Best params {'C': 10, 'gamma': 0.01}\n",
      "Best score 0.9039999999999999\n"
     ]
    }
   ],
   "source": [
    "print('Best params', gridsearch_models.best_params_)\n",
    "print('Best score', gridsearch_models.best_score_)"
   ]
  },
  {
   "cell_type": "code",
   "execution_count": 15,
   "metadata": {},
   "outputs": [],
   "source": [
    "best_model = gridsearch_models.best_estimator_"
   ]
  },
  {
   "cell_type": "markdown",
   "metadata": {
    "colab_type": "text",
    "id": "rupa4m2jX5rm"
   },
   "source": [
    "## Evaluation"
   ]
  },
  {
   "cell_type": "markdown",
   "metadata": {
    "colab_type": "text",
    "id": "2ncaF-JMAIbN"
   },
   "source": [
    "**Get the predictions on test data**"
   ]
  },
  {
   "cell_type": "code",
   "execution_count": 16,
   "metadata": {
    "colab": {},
    "colab_type": "code",
    "id": "1rwL5VCIX9qi"
   },
   "outputs": [
    {
     "name": "stdout",
     "output_type": "stream",
     "text": [
      "Accuracy Score: 0.9\n"
     ]
    }
   ],
   "source": [
    "predictions = best_model.predict(X_test_flat)\n",
    "print('Accuracy Score:', accuracy_score(y_test_flat, predictions))"
   ]
  },
  {
   "cell_type": "markdown",
   "metadata": {
    "colab_type": "text",
    "id": "IGuF9RSNAIbQ"
   },
   "source": [
    "**Plot the confusion matrix in form of a heatmap**"
   ]
  },
  {
   "cell_type": "code",
   "execution_count": 17,
   "metadata": {
    "colab": {
     "base_uri": "https://localhost:8080/",
     "height": 607
    },
    "colab_type": "code",
    "executionInfo": {
     "elapsed": 1534,
     "status": "ok",
     "timestamp": 1588832416487,
     "user": {
      "displayName": "Minh Do",
      "photoUrl": "https://lh3.googleusercontent.com/a-/AOh14GhnQ6aJ2YnaevyJzhii-qGws6Y17w-cwWLqF5iP=s64",
      "userId": "12822549848477954436"
     },
     "user_tz": -420
    },
    "id": "2RyKjfmHX7SN",
    "outputId": "adcbc362-8116-4f83-d7d8-93fa1dbe1a8f"
   },
   "outputs": [
    {
     "data": {
      "image/png": "[encoded data removed]",
      "text/plain": [
       "<Figure size 720x720 with 2 Axes>"
      ]
     },
     "metadata": {},
     "output_type": "display_data"
    }
   ],
   "source": [
    "plt.figure(figsize=(10,10))\n",
    "sns.heatmap(confusion_matrix(y_test_flat, predictions), cmap=\"YlGnBu\", annot=True, fmt=\"d\")\n",
    "plt.title(f'Accuracy score: {accuracy_score(y_test_flat, predictions)}', fontsize=20)\n",
    "plt.show()"
   ]
  },
  {
   "cell_type": "markdown",
   "metadata": {
    "colab_type": "text",
    "id": "tSlYzbs9AIbS"
   },
   "source": [
    "**Plot the samples that the model predicts incorrectly**"
   ]
  },
  {
   "cell_type": "code",
   "execution_count": 18,
   "metadata": {
    "colab": {
     "base_uri": "https://localhost:8080/",
     "height": 470
    },
    "colab_type": "code",
    "executionInfo": {
     "elapsed": 3756,
     "status": "ok",
     "timestamp": 1588832803276,
     "user": {
      "displayName": "Minh Do",
      "photoUrl": "https://lh3.googleusercontent.com/a-/AOh14GhnQ6aJ2YnaevyJzhii-qGws6Y17w-cwWLqF5iP=s64",
      "userId": "12822549848477954436"
     },
     "user_tz": -420
    },
    "id": "-_uUXSpazDLu",
    "outputId": "8b9c9cba-9229-402a-d5e8-d8e2a5e7189a"
   },
   "outputs": [
    {
     "data": {
      "image/png": "[encoded data removed]",
      "text/plain": [
       "<Figure size 1440x720 with 20 Axes>"
      ]
     },
     "metadata": {},
     "output_type": "display_data"
    }
   ],
   "source": [
    "wrong_predicted_images = X_test_flat[y_test_flat != predictions].reshape((-1, 28, 28))\n",
    "wrong_predictions = predictions[y_test_flat != predictions]\n",
    "\n",
    "plot_images(wrong_predicted_images, wrong_predictions)"
   ]
  },
  {
   "cell_type": "markdown",
   "metadata": {
    "colab_type": "text",
    "id": "Y8O1Hh7LYNjP"
   },
   "source": [
    "## Save model"
   ]
  },
  {
   "cell_type": "code",
   "execution_count": 19,
   "metadata": {
    "colab": {},
    "colab_type": "code",
    "id": "C7cNiWsLYPTE"
   },
   "outputs": [],
   "source": [
    "import pickle\n",
    "\n",
    "pickle.dump(clf, open('svm_mnist.pkl', 'wb'))"
   ]
  },
  {
   "cell_type": "markdown",
   "metadata": {
    "colab_type": "text",
    "id": "5B-g57XIYuH0"
   },
   "source": [
    "**Re-load model for testing**"
   ]
  },
  {
   "cell_type": "code",
   "execution_count": 20,
   "metadata": {
    "colab": {
     "base_uri": "https://localhost:8080/",
     "height": 34
    },
    "colab_type": "code",
    "executionInfo": {
     "elapsed": 1139,
     "status": "ok",
     "timestamp": 1588833259160,
     "user": {
      "displayName": "Minh Do",
      "photoUrl": "https://lh3.googleusercontent.com/a-/AOh14GhnQ6aJ2YnaevyJzhii-qGws6Y17w-cwWLqF5iP=s64",
      "userId": "12822549848477954436"
     },
     "user_tz": -420
    },
    "id": "WDsYcxfzYd8F",
    "outputId": "5df151b2-0ae2-4706-a136-aa45a2018fcb"
   },
   "outputs": [
    {
     "name": "stdout",
     "output_type": "stream",
     "text": [
      "Accuracy score: 0.875\n"
     ]
    }
   ],
   "source": [
    "with open('svm_mnist.pkl', 'rb') as model:\n",
    "    reload_model = pickle.load(model)\n",
    "\n",
    "predictions = reload_model.predict(X_test_flat)\n",
    "print(f'Accuracy score: {accuracy_score(y_test_flat, predictions)}')"
   ]
  },
  {
   "cell_type": "markdown",
   "metadata": {
    "colab_type": "text",
    "id": "1BVyCBz2m0Lz"
   },
   "source": [
    "## BONUS: Embedding the model into a web application"
   ]
  },
  {
   "cell_type": "markdown",
   "metadata": {
    "colab_type": "text",
    "id": "0Y2hes6WnfxV"
   },
   "source": [
    "### Project structure\n",
    "\n",
    "* Clone the files of the repository\n",
    "\n",
    "```bash\n",
    "git clone https://github.com/dhminh1024/flask_doc.git\n",
    "```\n",
    "\n",
    "* Change directory\n",
    "\n",
    "```bash\n",
    "cd flask_doc\n",
    "```\n",
    "\n",
    "* Create the following folders and files\n",
    "\n",
    "|-app/\n",
    "    |-templates/\n",
    "        |-base.html\n",
    "    |-static/\n",
    "        |-js/\n",
    "            |-index.js\n",
    "        |-css/\n",
    "            |-style.css\n",
    "        |-images/\n",
    "    |-blueprints/\n",
    "        |-__ init__.py\n",
    "    |-middlewares/\n",
    "    |-models/\n",
    "    |-main.py\n",
    "\n",
    "```bash\n",
    "mkdir app app/templates app/static app/static/js app/static/css app/static/images app/blueprints app/middlewares app/models\n",
    "touch app/main.py app/templates/base.html app/static/js/index.js app/static/css/style.css\n",
    "touch app/blueprints/__init__.py\n",
    "```\n",
    "\n",
    "* Add jquery (optional)\n",
    "\n",
    "```bash\n",
    "mv ./jquery-3.4.1.min.js app/static/js/\n",
    "```\n",
    "\n",
    "* Add Canvas (optional)\n",
    "\n",
    "```bash\n",
    "mv ./index.js app/static/js/index.js\n",
    "```\n",
    "\n",
    "* Add Coderschool logo (optional)\n",
    "\n",
    "```bash\n",
    "mv ./images/coderschool-logo.png app/static/images/\n",
    "rm -r images\n",
    "```\n",
    "\n",
    "* Add this code in **app/main.py**\n",
    "\n",
    "```python\n",
    "from flask import Flask, render_template\n",
    "from blueprints import *\n",
    "\n",
    "app = Flask(__name__)\n",
    "app.register_blueprint(home)\n",
    "\n",
    "if __name__ == '__main__':\n",
    "  app.run(host='127.0.0.1', port=5000, debug=True)\n",
    "```\n",
    "> *Hints: most of this code can be automaticaly generated with a VSCode Extension called flask-snippets by only writting \"fapp\"*\n",
    "> ![](https://i.imgur.com/npmdsha.png=500x)"
   ]
  },
  {
   "cell_type": "markdown",
   "metadata": {
    "colab_type": "text",
    "id": "4YcCs2nPAIbb"
   },
   "source": [
    "### Generating a new blueprint of our Flask app\n",
    "\n",
    "> A blueprint is a template for generating a \"section\" of our Flask app\n",
    "\n",
    "* In **flask_doc** directory, run this code in the **Terminal**\n",
    "\n",
    "```bash\n",
    "export NEW_BLUEPRINT=home\n",
    "mkdir app/blueprints/$NEW_BLUEPRINT\n",
    "touch app/blueprints/$NEW_BLUEPRINT/__init__.py app/blueprints/$NEW_BLUEPRINT/blueprint.py\n",
    "echo \"from .$NEW_BLUEPRINT import $NEW_BLUEPRINT\" >> app/blueprints/__init__.py\n",
    "echo \"from .blueprint import $NEW_BLUEPRINT\" > app/blueprints/$NEW_BLUEPRINT/__init__.py\n",
    "printf \\\n",
    "\"from flask import Blueprint, render_template, request\\n\\\n",
    "\\n\\\n",
    "$NEW_BLUEPRINT = Blueprint('$NEW_BLUEPRINT', __name__)\\\n",
    "\\n\\\n",
    "@$NEW_BLUEPRINT.route('/home')\\n\\\n",
    "def route_name():\\n\\\n",
    "    return render_template('$NEW_BLUEPRINT.html') \\n\\\n",
    "\" > app/blueprints/$NEW_BLUEPRINT/blueprint.py\n",
    "cp ./sample_page.html app/templates/$NEW_BLUEPRINT.html\n",
    "```\n",
    "> Hints: change 'home' to make a new blueprint (line 1 & 14)"
   ]
  },
  {
   "cell_type": "markdown",
   "metadata": {
    "colab_type": "text",
    "id": "9PH_skKCAIbb"
   },
   "source": [
    "### HTML Template\n",
    "\n",
    "* Add this code in **app/templates/base.html**\n",
    "\n",
    "```HTML\n",
    "<!doctype html>\n",
    "<html lang=\"en\">\n",
    "  <head>\n",
    "    <title>Title</title>\n",
    "    <!-- Required meta tags -->\n",
    "    <meta charset=\"utf-8\">\n",
    "    <meta name=\"viewport\" content=\"width=device-width, initial-scale=1, shrink-to-fit=no\">\n",
    "\n",
    "    <!-- Bootstrap CSS -->\n",
    "    <link rel=\"stylesheet\" href=\"https://stackpath.bootstrapcdn.com/bootstrap/4.3.1/css/bootstrap.min.css\" integrity=\"sha384-ggOyR0iXCbMQv3Xipma34MD+dH/1fQ784/j6cY/iJTQUOhcWr7x9JvoRxT2MZw1T\" crossorigin=\"anonymous\">\n",
    "    <!-- CSS -->\n",
    "    <link href=\"static/css/style.css\" rel=\"stylesheet\">\n",
    "</head>\n",
    "  <body class=\"text-center\">\n",
    "    {% block content%} {% endblock %} \n",
    "    \n",
    "    <script src=\"static/js/jquery-3.4.1.min.js\"></script>\n",
    "    <script src=\"static/js/index.js\"></script>\n",
    "    <!-- AJAX optional -->\n",
    "    <script type=\"text/javascript\">\n",
    "        $(\"#myButton\").click(function(){\n",
    "            $('#result').text('  Predicting...');\n",
    "            var $SCRIPT_ROOT = {{request.script_root|tojson|safe}};\n",
    "            var canvasObj = document.getElementById(\"canvas\");\n",
    "            var img = canvasObj.toDataURL('image/jpeg');\n",
    "            $.ajax({\n",
    "                type: \"POST\",\n",
    "                url: $SCRIPT_ROOT + \"/upload/\",\n",
    "                data: img,\n",
    "                success: function(data){\n",
    "                    $('#result').text('Predictions ' + data);\n",
    "                }\n",
    "            });\n",
    "        });\n",
    "    </script>\n",
    "  </body>\n",
    "</html>\n",
    "```\n",
    "\n",
    "> *Hints: most of this code can be automaticaly generated with VSCode Extensions called Bootstrap 4, Font awesome 4, Font Awesome 5 Free & Pro snippets by only writting \"b4-$\"*"
   ]
  },
  {
   "cell_type": "markdown",
   "metadata": {
    "colab_type": "text",
    "id": "gtAANFtOAIbc"
   },
   "source": [
    "### Run the app\n",
    "\n",
    "* Change directory\n",
    "\n",
    "```bash\n",
    "cd app\n",
    "```\n",
    "\n",
    "* Run the app\n",
    "\n",
    "```bash\n",
    "python main.py\n",
    "```\n",
    "\n",
    "Congratulation, you have just created your Flask app. Here is the link of your Flask app: http://127.0.0.1:5000/home\n",
    "\n",
    "### Html for MNIST example\n",
    "\n",
    "* Replace the code of **app/templates/home.html** by this code \n",
    "\n",
    "```HTML\n",
    "{% extends \"base.html\" %} {% block content %}\n",
    "<div style=\"margin-top:50px\">\n",
    "  <img class=\"mb-4\" src=\"static/images/coderschool-logo.png\" alt=\"\" />\n",
    "  <h1 class=\"h3 mb-3 font-weight-normal\">Please draw a number</h1>\n",
    "\n",
    "  <canvas id=\"canvas\" width=\"400\" height=\"400\"></canvas>\n",
    "\n",
    "  <h1 class=\"h3 mb-3 font-weight-normal\" id=\"result\">Predictions:</h1>\n",
    "\n",
    "  <button id=\"myButton\" class=\"btn  btn-primary \" type=\"submit\">\n",
    "    Predict\n",
    "  </button>\n",
    "  <button id=\"clearButton\" class=\"btn btn-success\" type=\"submit\">\n",
    "    Clear\n",
    "  </button>\n",
    "\n",
    "  <p class=\"mt-5 mb-3 text-muted\">&copy; CoderSchool</p>\n",
    "</div>\n",
    "{% endblock %}\n",
    "\n",
    "```\n",
    "\n",
    "### Python for MNIST example\n",
    "\n",
    "* In **flask_doc** directory, run this code to generate the blueprint related to upload\n",
    "\n",
    "```bash\n",
    "export NEW_BLUEPRINT=upload_api\n",
    "mkdir app/blueprints/$NEW_BLUEPRINT\n",
    "touch app/blueprints/$NEW_BLUEPRINT/__init__.py app/blueprints/$NEW_BLUEPRINT/blueprint.py\n",
    "echo \"from .$NEW_BLUEPRINT import $NEW_BLUEPRINT\" >> app/blueprints/__init__.py\n",
    "echo \"from .blueprint import $NEW_BLUEPRINT\" > app/blueprints/$NEW_BLUEPRINT/__init__.py\n",
    "printf \\\n",
    "\"from flask import Blueprint, render_template, request\\n\\\n",
    "\\n\\\n",
    "$NEW_BLUEPRINT = Blueprint('$NEW_BLUEPRINT', __name__)\\\n",
    "\\n\\\n",
    "@$NEW_BLUEPRINT.route('/upload_api')\\n\\\n",
    "def route_name():\\n\\\n",
    "    return render_template('$NEW_BLUEPRINT.html') \\n\\\n",
    "\" > app/blueprints/$NEW_BLUEPRINT/blueprint.py\n",
    "cp ./sample_page.html app/templates/$NEW_BLUEPRINT.html\n",
    "```\n",
    "\n",
    "\n",
    "* Replace the code of **app/blueprints/upload_api/blueprint.py** by this code\n",
    "\n",
    "```python\n",
    "from flask import Blueprint, render_template, request\n",
    "import re\n",
    "import base64\n",
    "import numpy as np\n",
    "\n",
    "def parse_image(imgData):\n",
    "    img_str = re.search(b\"base64,(.*)\", imgData).group(1)\n",
    "    img_decode = base64.decodebytes(img_str)\n",
    "    with open('output.png', \"wb\") as f:\n",
    "        f.write(img_decode)\n",
    "    return img_decode\n",
    "\n",
    "# Load your model here\n",
    "model = None\n",
    "\n",
    "upload_api = Blueprint('upload_api', __name__)\n",
    "\n",
    "\n",
    "@upload_api.route('/upload/', methods=['POST'])\n",
    "def upload():\n",
    "    image = parse_image(request.get_data())\n",
    "    # Your prediction here\n",
    "    prediction = 0\n",
    "    return str(prediction)\n",
    "\n",
    "```\n",
    "\n",
    "* Register the upload API in **app/main.py**:\n",
    "\n",
    "```python\n",
    "from flask import Flask, render_template\n",
    "from blueprints import *\n",
    "\n",
    "app = Flask(__name__)\n",
    "app.register_blueprint(home)\n",
    "app.register_blueprint(upload_api)\n",
    "\n",
    "if __name__ == '__main__':\n",
    "    app.run(host='127.0.0.1', port=5000, debug=True)\n",
    "```"
   ]
  },
  {
   "cell_type": "code",
   "execution_count": null,
   "metadata": {
    "colab": {},
    "colab_type": "code",
    "id": "32IcQ1Cpl3AS"
   },
   "outputs": [],
   "source": []
  }
 ],
 "metadata": {
  "colab": {
   "collapsed_sections": [],
   "name": "Week6-Lab-MNIST.ipynb",
   "provenance": []
  },
  "kernelspec": {
   "display_name": "Python 3",
   "language": "python",
   "name": "python3"
  },
  "language_info": {
   "codemirror_mode": {
    "name": "ipython",
    "version": 3
   },
   "file_extension": ".py",
   "mimetype": "text/x-python",
   "name": "python",
   "nbconvert_exporter": "python",
   "pygments_lexer": "ipython3",
   "version": "3.6.9"
  }
 },
 "nbformat": 4,
 "nbformat_minor": 1
}
