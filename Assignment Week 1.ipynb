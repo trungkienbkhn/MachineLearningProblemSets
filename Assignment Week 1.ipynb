{
 "cells": [
  {
   "cell_type": "code",
   "execution_count": null,
   "metadata": {},
   "outputs": [],
   "source": [
    "SQL"
   ]
  },
  {
   "cell_type": "code",
   "execution_count": null,
   "metadata": {},
   "outputs": [],
   "source": [
    "#Task 1\n",
    "SELECT * \n",
    "FROM CITY\n",
    "WHERE ID = 1661"
   ]
  },
  {
   "cell_type": "code",
   "execution_count": null,
   "metadata": {},
   "outputs": [],
   "source": [
    "#Task 2\n",
    "SELECT * \n",
    "FROM CITY\n",
    "WHERE COUNTRYCODE = \"USA\"\n",
    "AND POPULATION > 100000"
   ]
  },
  {
   "cell_type": "code",
   "execution_count": null,
   "metadata": {},
   "outputs": [],
   "source": [
    "#Task 3\n",
    "SELECT * \n",
    "FROM CITY\n",
    "WHERE COUNTRYCODE = \"JPN\""
   ]
  },
  {
   "cell_type": "code",
   "execution_count": null,
   "metadata": {},
   "outputs": [],
   "source": [
    "#Task 4\n",
    "SELECT NAME\n",
    "FROM CITY\n",
    "WHERE COUNTRYCODE = \"JPN\""
   ]
  },
  {
   "cell_type": "code",
   "execution_count": null,
   "metadata": {},
   "outputs": [],
   "source": [
    "#Task 5\n",
    "SELECT CITY, STATE\n",
    "FROM STATION"
   ]
  },
  {
   "cell_type": "code",
   "execution_count": null,
   "metadata": {},
   "outputs": [],
   "source": [
    "#Task 6\n",
    "SELECT DISTINCT CITY\n",
    "FROM STATION\n",
    "WHERE MOD(ID, 2) = 0"
   ]
  },
  {
   "cell_type": "code",
   "execution_count": null,
   "metadata": {},
   "outputs": [],
   "source": [
    "#TASK 7\n",
    "SELECT DISTINCT CITY, LENGTH(CITY) AS LEN\n",
    "FROM STATION\n",
    "ORDER BY LENGTH(CITY) ASC, CITY ASC\n",
    "LIMIT 1;\n",
    "\n",
    "SELECT DISTINCT CITY, LENGTH(CITY) AS LEN\n",
    "FROM STATION\n",
    "ORDER BY LENGTH(CITY) DESC, CITY ASC\n",
    "LIMIT 1;"
   ]
  },
  {
   "cell_type": "code",
   "execution_count": null,
   "metadata": {},
   "outputs": [],
   "source": [
    "#TASK 8\n",
    "SELECT DISTINCT CITY\n",
    "FROM STATION\n",
    "WHERE LOWER(CITY) LIKE \"a%\"\n",
    "OR LOWER(CITY) LIKE \"e%\"\n",
    "OR LOWER(CITY) LIKE \"i%\" \n",
    "OR LOWER(CITY) LIKE \"o%\" \n",
    "OR LOWER(CITY) LIKE \"u%\" "
   ]
  },
  {
   "cell_type": "code",
   "execution_count": null,
   "metadata": {},
   "outputs": [],
   "source": [
    "#TASK 9\n",
    "SELECT DISTINCT CITY\n",
    "FROM STATION\n",
    "WHERE LOWER(CITY) LIKE \"%a\"\n",
    "OR LOWER(CITY) LIKE \"%e\"\n",
    "OR LOWER(CITY) LIKE \"%i\" \n",
    "OR LOWER(CITY) LIKE \"%o\" \n",
    "OR LOWER(CITY) LIKE \"%u\" "
   ]
  },
  {
   "cell_type": "code",
   "execution_count": null,
   "metadata": {},
   "outputs": [],
   "source": [
    "#TASK 10\n",
    "SELECT DISTINCT CITY\n",
    "FROM STATION\n",
    "WHERE LOWER(CITY) LIKE \"a%%a\"\n",
    "OR LOWER(CITY) LIKE \"e%%e\"\n",
    "OR LOWER(CITY) LIKE \"i%%i\" \n",
    "OR LOWER(CITY) LIKE \"o%%o\" \n",
    "OR LOWER(CITY) LIKE \"u%%u\" "
   ]
  },
  {
   "cell_type": "code",
   "execution_count": null,
   "metadata": {},
   "outputs": [],
   "source": [
    "Python"
   ]
  },
  {
   "cell_type": "code",
   "execution_count": 12,
   "metadata": {},
   "outputs": [
    {
     "name": "stdout",
     "output_type": "stream",
     "text": [
      "Enter n: 1\n",
      "Weird\n"
     ]
    }
   ],
   "source": [
    "#TASK 1\n",
    "if __name__ == '__main__':\n",
    "    n = int(input(\"Enter n: \"))\n",
    "    if n%2 == 1:\n",
    "        print(\"Weird\")\n",
    "    elif (2<=n<=5):\n",
    "        print(\"Not Weird\")\n",
    "    elif (6<=n<=20):\n",
    "        print(\"Weird\")\n",
    "    elif (n>20):\n",
    "        print(\"Not Weird\")"
   ]
  },
  {
   "cell_type": "code",
   "execution_count": 14,
   "metadata": {},
   "outputs": [
    {
     "name": "stdout",
     "output_type": "stream",
     "text": [
      "Enter a: 2\n",
      "Enter b: 3\n",
      "sum: 5\n",
      "sub: -1\n",
      "mul: 6\n"
     ]
    }
   ],
   "source": [
    "#TASK 2\n",
    "if __name__ == '__main__':\n",
    "    a = int(input(\"Enter a: \"))\n",
    "    b = int(input(\"Enter b: \"))\n",
    "    print(\"sum:\",a+b)\n",
    "    print(\"sub:\",a-b)\n",
    "    print(\"mul:\",a*b)"
   ]
  },
  {
   "cell_type": "code",
   "execution_count": 16,
   "metadata": {},
   "outputs": [
    {
     "name": "stdout",
     "output_type": "stream",
     "text": [
      "Enter n: 6\n",
      "1\n",
      "4\n",
      "9\n",
      "16\n",
      "25\n",
      "36\n"
     ]
    }
   ],
   "source": [
    "#TASK 3\n",
    "if __name__ == '__main__':\n",
    "    n = int(input(\"Enter n: \"))\n",
    "    for i in range(1,n+1):\n",
    "        print(i*i)   "
   ]
  },
  {
   "cell_type": "code",
   "execution_count": 35,
   "metadata": {},
   "outputs": [
    {
     "data": {
      "text/plain": [
       "False"
      ]
     },
     "execution_count": 35,
     "metadata": {},
     "output_type": "execute_result"
    }
   ],
   "source": [
    "#TASK 4\n",
    "def is_leap(year):\n",
    "    if ((year%4 == 0) and (year % 100!= 0)) or (year%400 == 0):\n",
    "        return True\n",
    "    else:\n",
    "        return False\n",
    "is_leap(2200)"
   ]
  },
  {
   "cell_type": "code",
   "execution_count": 30,
   "metadata": {},
   "outputs": [
    {
     "name": "stdout",
     "output_type": "stream",
     "text": [
      "Enter n: 4\n",
      "Enter a[0]:12\n",
      "Enter a[1]:34\n",
      "Enter a[2]:13\n",
      "Enter a[3]:24\n",
      "24\n"
     ]
    }
   ],
   "source": [
    "#TASK 5\n",
    "if __name__ == '__main__':\n",
    "    n = int(input(\"Enter n: \"))\n",
    "    a = []\n",
    "    for i in range(n):\n",
    "        a.append(int(input(\"Enter a[%d]: \" %(i)))) \n",
    "    print(sorted(a)[n-2])\n",
    "        "
   ]
  },
  {
   "cell_type": "code",
   "execution_count": null,
   "metadata": {},
   "outputs": [],
   "source": [
    "LAP"
   ]
  },
  {
   "cell_type": "code",
   "execution_count": null,
   "metadata": {},
   "outputs": [],
   "source": [
    "BASIC PYTHON"
   ]
  },
  {
   "cell_type": "code",
   "execution_count": 36,
   "metadata": {},
   "outputs": [
    {
     "name": "stdout",
     "output_type": "stream",
     "text": [
      "[(1, 3), (4, 10), (20, 25)]\n"
     ]
    }
   ],
   "source": [
    "#Bài 3\n",
    "arr =  [(1, 3), (5, 8), (4, 10), (20, 25)]\n",
    "arr = sorted(arr)\n",
    "m = [] \n",
    "start = arr[0][0]\n",
    "end = arr[0][1]\n",
    "for i in range(1,len(arr)): \n",
    "    a = arr[i] \n",
    "    if a[0] > end: \n",
    "        m.append((start,end)) \n",
    "        end = a[1] \n",
    "        start = a[0] \n",
    "    else: \n",
    "        if a[1] >= end: \n",
    "            end = a[1] \n",
    "m.append((start, end)) \n",
    "print(m)"
   ]
  },
  {
   "cell_type": "code",
   "execution_count": null,
   "metadata": {},
   "outputs": [],
   "source": [
    "Basic SQL"
   ]
  },
  {
   "cell_type": "code",
   "execution_count": null,
   "metadata": {},
   "outputs": [],
   "source": [
    "Multi-table queries with JOINs"
   ]
  },
  {
   "cell_type": "code",
   "execution_count": null,
   "metadata": {},
   "outputs": [],
   "source": [
    "#List first 10 tracks and its album's title order by track's name\n",
    "data = pd.read_sql_query('''SELECT Name, Title \n",
    "                            FROM tracks INNER JOIN albums ON tracks.AlbumId = albums.AlbumId \n",
    "                            ORDER BY Name\n",
    "                            LIMIT 10''', conn)"
   ]
  },
  {
   "cell_type": "code",
   "execution_count": null,
   "metadata": {},
   "outputs": [],
   "source": [
    "Queries with aggregates"
   ]
  },
  {
   "cell_type": "code",
   "execution_count": null,
   "metadata": {},
   "outputs": [],
   "source": [
    "# Find the revenue of 2013\n",
    "data = pd.read_sql_query('''SELECT SUM(Total) as revenue \n",
    "                            FROM invoices\n",
    "                            WHERE InvoiceDate LIKE \"%2013%\"''', conn)"
   ]
  },
  {
   "cell_type": "code",
   "execution_count": null,
   "metadata": {},
   "outputs": [],
   "source": [
    "# Find the number of tracks belong to the genre Rock\n",
    "pd.read_sql_query('''SELECT COUNT(t.TrackId) as count \n",
    "                            FROM tracks as t, genres as g\n",
    "                            WHERE t.GenreId = g.GenreId\n",
    "                            AND g.Name = \"Rock\"''', conn)"
   ]
  },
  {
   "cell_type": "code",
   "execution_count": null,
   "metadata": {},
   "outputs": [],
   "source": [
    "# Find the number of customers each employee has supported\n",
    "pd.read_sql_query('''SELECT e.FirstName, e.LastName, COUNT(c.CustomerId) as count \n",
    "                            FROM customers as c, employees as e\n",
    "                            WHERE c.SupportRepId = e.EmployeeId\n",
    "                            GROUP BY e.FirstName, e.LastName''', conn)"
   ]
  },
  {
   "cell_type": "code",
   "execution_count": null,
   "metadata": {},
   "outputs": [],
   "source": [
    "# Find the customer who paid the most\n",
    "pd.read_sql_query('''SELECT c.FirstName, c.LastName, SUM(i.Total) as sum \n",
    "                            FROM customers as c, invoices as i\n",
    "                            WHERE c.CustomerId = i.CustomerId\n",
    "                            GROUP BY c.FirstName, c.LastName\n",
    "                            ORDER BY sum DESC\n",
    "                            LIMIT 1''', conn)"
   ]
  },
  {
   "cell_type": "code",
   "execution_count": null,
   "metadata": {},
   "outputs": [],
   "source": []
  }
 ],
 "metadata": {
  "kernelspec": {
   "display_name": "Python 3",
   "language": "python",
   "name": "python3"
  },
  "language_info": {
   "codemirror_mode": {
    "name": "ipython",
    "version": 3
   },
   "file_extension": ".py",
   "mimetype": "text/x-python",
   "name": "python",
   "nbconvert_exporter": "python",
   "pygments_lexer": "ipython3",
   "version": "3.8.5"
  }
 },
 "nbformat": 4,
 "nbformat_minor": 4
}
